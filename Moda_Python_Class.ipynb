{
 "cells": [
  {
   "cell_type": "markdown",
   "metadata": {},
   "source": [
    "# Moda MIT Python Class"
   ]
  },
  {
   "cell_type": "markdown",
   "metadata": {},
   "source": [
    "### Daniel Yaeger 3/4/21"
   ]
  },
  {
   "cell_type": "markdown",
   "metadata": {},
   "source": [
    "**Python** is a popular open-source programming language developed in the late 1980's. Python has many free libraries that can support database processing, statistical functions, analytics, machine learning, and even symbolic mathematics. You can download Anaconda, which includes Python, several of the most common data science libraries, and a few other software packages as well (including Jupyter notebooks) at [Anaconda](https://www.anaconda.com). Although Python can run on on-premise servers or the cloud, you can also run it on your local machine (unlike `SAS Enterprise`)."
   ]
  },
  {
   "cell_type": "markdown",
   "metadata": {},
   "source": [
    "## Python Basics"
   ]
  },
  {
   "cell_type": "markdown",
   "metadata": {},
   "source": [
    "The syntax for assigning variables is pretty simple and looks a bit like what you learned in algebra."
   ]
  },
  {
   "cell_type": "code",
   "execution_count": 33,
   "metadata": {},
   "outputs": [],
   "source": [
    "# Any line starting with a hashtag is a comment\n",
    "x = 4\n",
    "y = 7.3\n",
    "z = x + y"
   ]
  },
  {
   "cell_type": "markdown",
   "metadata": {},
   "source": [
    "```python\n",
    "'''You can print out values (sort of like the SAS log) using the print function.\n",
    "By including the f before the quotes in the string allows you to print values saved\n",
    "in variables or even the output of functions or expressions. The variable name,\n",
    "expression or function call goes inside of curly brackets {}\n",
    "'''\n",
    "print(f'Yada yada {variable_1} then more yada-yada {variable_2 + variable_3}')\n",
    "```"
   ]
  },
  {
   "cell_type": "code",
   "execution_count": 34,
   "metadata": {},
   "outputs": [
    {
     "name": "stdout",
     "output_type": "stream",
     "text": [
      "x = 4\n",
      "y = 7.3\n",
      "z = 11.3\n"
     ]
    }
   ],
   "source": [
    "\n",
    "print(f'x = {x}')\n",
    "print(f'y = {y}')\n",
    "print(f'z = {x + y}')"
   ]
  },
  {
   "cell_type": "code",
   "execution_count": 11,
   "metadata": {},
   "outputs": [
    {
     "name": "stdout",
     "output_type": "stream",
     "text": [
      "Hello Dan!\n"
     ]
    }
   ],
   "source": [
    "# strings\n",
    "name = 'Dan'\n",
    "print(f'Hello {name}!')"
   ]
  },
  {
   "cell_type": "code",
   "execution_count": 12,
   "metadata": {},
   "outputs": [
    {
     "data": {
      "text/plain": [
       "False"
      ]
     },
     "execution_count": 12,
     "metadata": {},
     "output_type": "execute_result"
    }
   ],
   "source": [
    "# booleans\n",
    "# == is the equal operator\n",
    "x == 5"
   ]
  },
  {
   "cell_type": "code",
   "execution_count": 13,
   "metadata": {},
   "outputs": [
    {
     "data": {
      "text/plain": [
       "False"
      ]
     },
     "execution_count": 13,
     "metadata": {},
     "output_type": "execute_result"
    }
   ],
   "source": [
    "x > y"
   ]
  },
  {
   "cell_type": "markdown",
   "metadata": {},
   "source": [
    "```python\n",
    "#functions are written like this\n",
    "def myfunction(argument_1, argument_2):\n",
    "    # yada yada\n",
    "    return value\n",
    "```"
   ]
  },
  {
   "cell_type": "code",
   "execution_count": 14,
   "metadata": {},
   "outputs": [],
   "source": [
    "def add_two_values(x: float, y: float):\n",
    "    return x + y"
   ]
  },
  {
   "cell_type": "code",
   "execution_count": 15,
   "metadata": {},
   "outputs": [
    {
     "name": "stdout",
     "output_type": "stream",
     "text": [
      "x + y = 11.3\n"
     ]
    }
   ],
   "source": [
    "print(f'x + y = { add_two_values(x,y) }')"
   ]
  },
  {
   "cell_type": "markdown",
   "metadata": {},
   "source": [
    "```python\n",
    "# in python white space matters\n",
    "if True:\n",
    "    doSomething()\n",
    "elif False:\n",
    "    doSomethingElse()\n",
    "else:\n",
    "    doYetAnotherThing()\n",
    "```"
   ]
  },
  {
   "cell_type": "code",
   "execution_count": 11,
   "metadata": {},
   "outputs": [],
   "source": [
    "def is_even(x: float):\n",
    "    if not isinstance(x, int):\n",
    "        return False\n",
    "    else:\n",
    "        return (x%2 == 0)"
   ]
  },
  {
   "cell_type": "code",
   "execution_count": 12,
   "metadata": {},
   "outputs": [
    {
     "name": "stdout",
     "output_type": "stream",
     "text": [
      "True\n"
     ]
    }
   ],
   "source": [
    "print(is_even(4))"
   ]
  },
  {
   "cell_type": "code",
   "execution_count": 13,
   "metadata": {},
   "outputs": [
    {
     "name": "stdout",
     "output_type": "stream",
     "text": [
      "False\n"
     ]
    }
   ],
   "source": [
    "print(not is_even(4))"
   ]
  },
  {
   "cell_type": "code",
   "execution_count": 14,
   "metadata": {},
   "outputs": [
    {
     "name": "stdout",
     "output_type": "stream",
     "text": [
      "False\n"
     ]
    }
   ],
   "source": [
    "print(is_even(13.2))"
   ]
  },
  {
   "cell_type": "code",
   "execution_count": 15,
   "metadata": {},
   "outputs": [
    {
     "name": "stdout",
     "output_type": "stream",
     "text": [
      "0 1 2 3 4 "
     ]
    }
   ],
   "source": [
    "# loops. Note that Python starts indexing at zero\n",
    "for i in range(5):\n",
    "    print(i, end = ' ')\n"
   ]
  },
  {
   "cell_type": "markdown",
   "metadata": {},
   "source": [
    "## Extending basic Python functionality with modules"
   ]
  },
  {
   "cell_type": "markdown",
   "metadata": {},
   "source": [
    "There are a **ton** of Python modules, all free and open-source. One major difference between free, open-source software and proprietary software like `SAS`, `MATLAB`, `Mathematica` is that you as a user have to tell open-source software such as `C`, `Python` and `R` which modules (or libraries) to import."
   ]
  },
  {
   "cell_type": "markdown",
   "metadata": {},
   "source": [
    "```python\n",
    "# import all functionality from a module\n",
    "import my_favorite_module\n",
    "\n",
    "# import a specific functionality or subset of functionality from a module\n",
    "from my_favorite_module import super_awesome_function\n",
    "```"
   ]
  },
  {
   "cell_type": "code",
   "execution_count": 37,
   "metadata": {},
   "outputs": [],
   "source": [
    "from random import choice"
   ]
  },
  {
   "cell_type": "code",
   "execution_count": 38,
   "metadata": {},
   "outputs": [
    {
     "name": "stdout",
     "output_type": "stream",
     "text": [
      "4 3 2 2 1 4 1 3 3 1 "
     ]
    }
   ],
   "source": [
    "for i in range(10):\n",
    "    x = choice((1,2,3,4,5))\n",
    "    print(x, end = ' ')"
   ]
  },
  {
   "cell_type": "code",
   "execution_count": 38,
   "metadata": {},
   "outputs": [
    {
     "name": "stdout",
     "output_type": "stream",
     "text": [
      "2\n"
     ]
    }
   ],
   "source": [
    "# Another way of doing it\n",
    "import random\n",
    "\n",
    "# Note the module dot function name syntax\n",
    "print(random.choice((1,2,3,4,5)))"
   ]
  },
  {
   "cell_type": "markdown",
   "metadata": {},
   "source": [
    "## In Python Everything Is An Object!"
   ]
  },
  {
   "cell_type": "markdown",
   "metadata": {},
   "source": [
    "So far this looks a lot like `SAS` except for some of the funky `%macro` syntax. In Python though, everything is an **object**. An **object** has:\n",
    "- *data* (also called attributes)\n",
    "- *functions* (also called methods)\n",
    "\n",
    "We can distinguish between two types of objects: the **class**, which is like the abstract type of the object, and the **instance**, which is a concrete member of the class.  For example, my cat *Indie* is an instance of the **Cat** class.\n",
    "\n",
    "That may sound pretty abstract.  Objects in Python are a lot like objects in the real world, and sometimes we can explicitly model real-world objects as Python objects. Take members at Moda. They have data (or attributes) like their member ID, first name, last name, DOB. They also have methods (or actions they can take) like going on the mood list, closing gaps, and filing claims."
   ]
  },
  {
   "cell_type": "code",
   "execution_count": 23,
   "metadata": {},
   "outputs": [],
   "source": [
    "class ModaMember():\n",
    "    \"\"\"Moda member object. This is a model of a Moda member.\n",
    "    \"\"\"\n",
    "    # These are the data associated with this object\n",
    "    # The init method is the function that is called when we create a new ModaMember object\n",
    "    def __init__(self, member_id: str, first_name: str, last_name: str):\n",
    "        self.member_id = member_id\n",
    "        self.first_name = first_name\n",
    "        self.last_name = last_name\n",
    "        self.okay_to_outreach = True\n",
    "        self.gap_in_care = True\n",
    "    \n",
    "    def set_outreach_preferences(self, okay_to_outreach: bool):\n",
    "        self.okay_to_outreach = okay_to_outreach\n",
    "    \n",
    "    def close_gap(self):\n",
    "        self.gap_in_care = False\n",
    "    "
   ]
  },
  {
   "cell_type": "markdown",
   "metadata": {},
   "source": [
    "```python\n",
    "#We make a new instance like this.\n",
    "instance = Class(argument_1 = something, argument_2 = something_else)\n",
    "```"
   ]
  },
  {
   "cell_type": "code",
   "execution_count": 28,
   "metadata": {},
   "outputs": [],
   "source": [
    "# Let's make a new ModaMember named Harry Potter\n",
    "harry = ModaMember(member_id = 'A00000000000000000', \n",
    "                   first_name = 'Harry', \n",
    "                   last_name = 'Potter')"
   ]
  },
  {
   "cell_type": "code",
   "execution_count": 29,
   "metadata": {},
   "outputs": [
    {
     "name": "stdout",
     "output_type": "stream",
     "text": [
      "Name: Harry Potter\n",
      "Member Id: A00000000000000000\n",
      "Is it okay to outreach to member? True\n",
      "Does member have gap in care? True\n"
     ]
    }
   ],
   "source": [
    "# Access data. Note the instance dot data variable notation\n",
    "print(f'Name: {harry.first_name} {harry.last_name}')\n",
    "print(f'Member Id: {harry.member_id}')\n",
    "print(f'Is it okay to outreach to member? {harry.okay_to_outreach}')\n",
    "print(f'Does member have gap in care? {harry.gap_in_care}')"
   ]
  },
  {
   "cell_type": "code",
   "execution_count": 30,
   "metadata": {},
   "outputs": [
    {
     "name": "stdout",
     "output_type": "stream",
     "text": [
      "Does member have gap in care? False\n"
     ]
    }
   ],
   "source": [
    "# Access methods. Note the instance dot function name paretheses and arguments notation\n",
    "# Let's close this member's gap\n",
    "harry.close_gap()\n",
    "\n",
    "# Now does member have a gap in care?\n",
    "print(f'Does member have gap in care? {harry.gap_in_care}')"
   ]
  },
  {
   "cell_type": "code",
   "execution_count": 31,
   "metadata": {},
   "outputs": [
    {
     "name": "stdout",
     "output_type": "stream",
     "text": [
      "Is it okay to outreach to member? False\n"
     ]
    }
   ],
   "source": [
    "# Let's also set the member's contact preferences to no contact\n",
    "harry.set_outreach_preferences(okay_to_outreach = False)\n",
    "\n",
    "# Now is it okay to contact member\n",
    "print(f'Is it okay to outreach to member? {harry.okay_to_outreach}')"
   ]
  },
  {
   "cell_type": "markdown",
   "metadata": {},
   "source": [
    "## Python Data Structures"
   ]
  },
  {
   "cell_type": "markdown",
   "metadata": {},
   "source": [
    "Python has several useful built-in data structures. Several thousands more are available in modules. The 2 most useful basic Python data structures are `lists` and `dictionaries`.\n",
    "\n",
    "`Lists` are the most flexible of data structures but slow for accessing data. `Dictionaries` are the fastest possible data structure for accessing data but impose a rigid structure that is useful for some problems but not for others. `Dictionaries` also require more memory than `lists` to hold the same contents."
   ]
  },
  {
   "cell_type": "code",
   "execution_count": 35,
   "metadata": {},
   "outputs": [],
   "source": [
    "# You can make a simple list by putting a comma-separated set of values between brackets\n",
    "# Note that can store different types of objects in the same list!\n",
    "my_list = [\"Sorcer's Stone\", 1, harry]"
   ]
  },
  {
   "cell_type": "code",
   "execution_count": 36,
   "metadata": {},
   "outputs": [
    {
     "name": "stdout",
     "output_type": "stream",
     "text": [
      "<class 'str'>\n",
      "<class 'int'>\n",
      "<class '__main__.ModaMember'>\n"
     ]
    }
   ],
   "source": [
    "# Brief digression: for loops can also iterate over the items in certain kinds of \n",
    "# data structures\n",
    "for item in my_list:\n",
    "    print(type(item))"
   ]
  },
  {
   "cell_type": "code",
   "execution_count": 61,
   "metadata": {},
   "outputs": [],
   "source": [
    "# Let's create a list of Moda members to show some of the methods of the list object\n",
    "moda_members = []\n",
    "for i in range(10):\n",
    "    moda_members.append(ModaMember(member_id = f'A000000000000000{random.randint(10,99)}',\n",
    "                                   first_name = random.choice(['Harry',\n",
    "                                                              'Cho',\n",
    "                                                              'Vernon',\n",
    "                                                              'Seamus',\n",
    "                                                              'Ginny',\n",
    "                                                              'Luna',\n",
    "                                                              'Sirius',\n",
    "                                                              'Severus']),\n",
    "                                  last_name = random.choice(['Potter',\n",
    "                                                            'Chang',\n",
    "                                                            'Dursley',\n",
    "                                                            'Finnigan',\n",
    "                                                            'Moon',\n",
    "                                                            'Black',\n",
    "                                                            'Snape']\n",
    "                                                           )))"
   ]
  },
  {
   "cell_type": "code",
   "execution_count": 69,
   "metadata": {},
   "outputs": [
    {
     "name": "stdout",
     "output_type": "stream",
     "text": [
      "Name: Cho Finnigan\n",
      "Member Id: A00000000000000096\n",
      "\n",
      "Name: Ginny Snape\n",
      "Member Id: A00000000000000032\n",
      "\n",
      "Name: Severus Moon\n",
      "Member Id: A00000000000000040\n",
      "\n",
      "Name: Severus Dursley\n",
      "Member Id: A00000000000000041\n",
      "\n",
      "Name: Cho Finnigan\n",
      "Member Id: A00000000000000074\n",
      "\n",
      "Name: Ginny Moon\n",
      "Member Id: A00000000000000078\n",
      "\n",
      "Name: Severus Potter\n",
      "Member Id: A00000000000000081\n",
      "\n",
      "Name: Cho Dursley\n",
      "Member Id: A00000000000000048\n",
      "\n",
      "Name: Seamus Finnigan\n",
      "Member Id: A00000000000000035\n",
      "\n",
      "Name: Seamus Dursley\n",
      "Member Id: A00000000000000090\n",
      "\n"
     ]
    }
   ],
   "source": [
    "for member in moda_members:\n",
    "    print(f'Name: {member.first_name} {member.last_name}')\n",
    "    print(f'Member Id: {member.member_id}', end = '\\n\\n')\n"
   ]
  },
  {
   "cell_type": "code",
   "execution_count": 70,
   "metadata": {},
   "outputs": [],
   "source": [
    "# You can index into lists with the list_name[index] notation\n",
    "# Let's set the contact preferences of the members with even indexes to no contact\n",
    "for i in range(10):\n",
    "    if is_even(i):\n",
    "        moda_members[i].set_outreach_preferences(okay_to_outreach = False)"
   ]
  },
  {
   "cell_type": "markdown",
   "metadata": {},
   "source": [
    "```python\n",
    "\"\"\"\n",
    "Very quickly, we will cover dictionaries. You make a new dictionary with the { }\n",
    "syntax. Entries in dictionary are key-value pairs, analagous to word (key) - definition (value) pairs in real life dictionaries.\n",
    "\n",
    "\"\"\"\n",
    "\n",
    "My_dictionary = {'key_1': value, 2: 'value', 'key_3': [1,2,3]}\n",
    "```"
   ]
  },
  {
   "cell_type": "code",
   "execution_count": 73,
   "metadata": {},
   "outputs": [],
   "source": [
    "mood_dict = {}\n",
    "for member in moda_members:\n",
    "    mood_dict[member.member_id] = member.okay_to_outreach"
   ]
  },
  {
   "cell_type": "code",
   "execution_count": 75,
   "metadata": {},
   "outputs": [
    {
     "name": "stdout",
     "output_type": "stream",
     "text": [
      "Ok to outreach to Member Id #A00000000000000035? False\n"
     ]
    }
   ],
   "source": [
    "member_id = 'A00000000000000035'\n",
    "print(f'Ok to outreach to Member Id #{member_id}? {Mood_dict[member_id]}')"
   ]
  },
  {
   "cell_type": "markdown",
   "metadata": {},
   "source": [
    "## File Input And Output"
   ]
  },
  {
   "cell_type": "markdown",
   "metadata": {},
   "source": [
    "There are so several Python modules that provide a ton of functionality for working with file input/output, particularly `Pandas`, `csv`, and `XlsxWriter`. I've got a workshop on my github profile that I and a colleague created on using `Pandas` and `SQL` [here](https://github.com/dbyaeger/sql_workshop), including some Python code to build a fully normalized relational database starting from a `.csv` file."
   ]
  },
  {
   "cell_type": "code",
   "execution_count": 91,
   "metadata": {},
   "outputs": [],
   "source": [
    "# Let's write some write the member data to a file\n",
    "# Python has some special syntax that takes care of opening and closing files\n",
    "# NOTE the w after the name of the file (w for write)\n",
    "with open('Moda_Members.csv', 'w') as f:\n",
    "    f.write('Member Id,First name,Last name\\n')\n",
    "    for member in moda_members:\n",
    "        f.write(f'{member.member_id},{member.first_name},{member.last_name}\\n')"
   ]
  },
  {
   "cell_type": "code",
   "execution_count": 92,
   "metadata": {},
   "outputs": [
    {
     "name": "stdout",
     "output_type": "stream",
     "text": [
      "Member Id,First name,Last name\n",
      "\n",
      "A00000000000000096,Cho,Finnigan\n",
      "\n",
      "A00000000000000032,Ginny,Snape\n",
      "\n",
      "A00000000000000040,Severus,Moon\n",
      "\n",
      "A00000000000000041,Severus,Dursley\n",
      "\n",
      "A00000000000000074,Cho,Finnigan\n",
      "\n",
      "A00000000000000078,Ginny,Moon\n",
      "\n",
      "A00000000000000081,Severus,Potter\n",
      "\n",
      "A00000000000000048,Cho,Dursley\n",
      "\n",
      "A00000000000000035,Seamus,Finnigan\n",
      "\n",
      "A00000000000000090,Seamus,Dursley\n",
      "\n"
     ]
    }
   ],
   "source": [
    "# let's open the file and see what we wrote. NOTE the r (r for read)\n",
    "with open('Moda_Members.csv', 'r') as f:\n",
    "    for line in f:\n",
    "        print(line)"
   ]
  },
  {
   "cell_type": "markdown",
   "metadata": {},
   "source": [
    "## File Management in Python"
   ]
  },
  {
   "cell_type": "markdown",
   "metadata": {},
   "source": [
    "For the last section of the tutorial, we will look at file management. We will do something that is impossible with `SAS enterprise` but fairly simple with Python.  We are going to make separate folders (and files) for each family (by which I mean last name). We will use a few more modules as well."
   ]
  },
  {
   "cell_type": "code",
   "execution_count": 134,
   "metadata": {},
   "outputs": [],
   "source": [
    "import pandas as pd\n",
    "import os\n",
    "from pathlib import Path\n",
    "import shutil"
   ]
  },
  {
   "cell_type": "code",
   "execution_count": 135,
   "metadata": {},
   "outputs": [],
   "source": [
    "#Get current path\n",
    "current_path = os.getcwd()\n",
    "\n",
    "# Make path into Path object\n",
    "path = Path(current_path)\n",
    "\n",
    "# Let's make a new folder to store our data. First we make a path and then we make that path into a folder\n",
    "data_path = path.joinpath('Moda_member_data')\n",
    "\n",
    "# Trying to make an existing directory will raise an error. This checks to make sure directory doesn't\n",
    "# exist before making a new one\n",
    "if not data_path.exists():\n",
    "    data_path.mkdir()"
   ]
  },
  {
   "cell_type": "code",
   "execution_count": 136,
   "metadata": {},
   "outputs": [],
   "source": [
    "# Now open the text file we made and make into a data frame\n",
    "moda_member_df = pd.read_csv('Moda_Members.csv', sep = ',')"
   ]
  },
  {
   "cell_type": "code",
   "execution_count": 137,
   "metadata": {},
   "outputs": [
    {
     "data": {
      "text/html": [
       "<div>\n",
       "<style scoped>\n",
       "    .dataframe tbody tr th:only-of-type {\n",
       "        vertical-align: middle;\n",
       "    }\n",
       "\n",
       "    .dataframe tbody tr th {\n",
       "        vertical-align: top;\n",
       "    }\n",
       "\n",
       "    .dataframe thead th {\n",
       "        text-align: right;\n",
       "    }\n",
       "</style>\n",
       "<table border=\"1\" class=\"dataframe\">\n",
       "  <thead>\n",
       "    <tr style=\"text-align: right;\">\n",
       "      <th></th>\n",
       "      <th>Member Id</th>\n",
       "      <th>First name</th>\n",
       "      <th>Last name</th>\n",
       "    </tr>\n",
       "  </thead>\n",
       "  <tbody>\n",
       "    <tr>\n",
       "      <td>0</td>\n",
       "      <td>A00000000000000096</td>\n",
       "      <td>Cho</td>\n",
       "      <td>Finnigan</td>\n",
       "    </tr>\n",
       "    <tr>\n",
       "      <td>1</td>\n",
       "      <td>A00000000000000032</td>\n",
       "      <td>Ginny</td>\n",
       "      <td>Snape</td>\n",
       "    </tr>\n",
       "    <tr>\n",
       "      <td>2</td>\n",
       "      <td>A00000000000000040</td>\n",
       "      <td>Severus</td>\n",
       "      <td>Moon</td>\n",
       "    </tr>\n",
       "  </tbody>\n",
       "</table>\n",
       "</div>"
      ],
      "text/plain": [
       "            Member Id First name Last name\n",
       "0  A00000000000000096        Cho  Finnigan\n",
       "1  A00000000000000032      Ginny     Snape\n",
       "2  A00000000000000040    Severus      Moon"
      ]
     },
     "execution_count": 137,
     "metadata": {},
     "output_type": "execute_result"
    }
   ],
   "source": [
    "# Take a look at the first 3 rows of the moda_member_file.\n",
    "moda_member_df.head(3)"
   ]
  },
  {
   "cell_type": "code",
   "execution_count": 138,
   "metadata": {},
   "outputs": [],
   "source": [
    "# Get unique last names\n",
    "last_names = moda_member_df['Last name'].unique()"
   ]
  },
  {
   "cell_type": "code",
   "execution_count": 139,
   "metadata": {},
   "outputs": [],
   "source": [
    "# Iterate through last names\n",
    "for name in last_names:\n",
    "    \n",
    "    # Create folder inside of Moda_member_data directory if folder not already made\n",
    "    name_path = data_path.joinpath(name)\n",
    "    if not name_path.exists():\n",
    "        name_path.mkdir()\n",
    "        \n",
    "    # Make a new dataframe containing rows with last name\n",
    "    a = moda_member_df[moda_member_df['Last name'] == name].to_csv(name_path.joinpath(f'{name}.csv'), index = False)\n",
    "    "
   ]
  },
  {
   "cell_type": "code",
   "execution_count": 140,
   "metadata": {},
   "outputs": [
    {
     "name": "stdout",
     "output_type": "stream",
     "text": [
      "Potter\n",
      "\tPotter.csv\n",
      "Moon\n",
      "\tMoon.csv\n",
      "Finnigan\n",
      "\tFinnigan.csv\n",
      "Snape\n",
      "\tSnape.csv\n",
      "Dursley\n",
      "\tDursley.csv\n"
     ]
    }
   ],
   "source": [
    "# let's see what we did!\n",
    "folders = [folder for folder in data_path.iterdir() if folder.is_dir()]\n",
    "for folder in folders:\n",
    "        print(folder.name)\n",
    "        files_in_folder = [file for file in folder.iterdir() if file.is_file()]\n",
    "        for file in files_in_folder:\n",
    "            print(f\"\\t{file.name}\")"
   ]
  },
  {
   "cell_type": "code",
   "execution_count": 141,
   "metadata": {},
   "outputs": [],
   "source": [
    "# Lastly, clean up!\n",
    "shutil.rmtree(data_path)"
   ]
  },
  {
   "cell_type": "markdown",
   "metadata": {},
   "source": [
    "## How to learn more"
   ]
  },
  {
   "cell_type": "markdown",
   "metadata": {},
   "source": [
    "Courses:\n",
    "* [Python for Everybody](https://www.py4e.com): Very simple and gentle introduction to Python\n",
    "* [MIT's Introduction to Computer Science and Programming in Python](https://ocw.mit.edu/courses/electrical-engineering-and-computer-science/6-0001-introduction-to-computer-science-and-programming-in-python-fall-2016/): Demanding but excellent introduction to computer science using Python\n",
    "\n",
    "Other Resources:\n",
    "* [Stack Overflow](https://stackoverflow.com): Googling is an amazing resource for figuring out how to do things in Python, and 9 times out of 10 I end up on a Stack Overflow post.  \n",
    "* [Python tutor](http://pythontutor.com): A tool that allows you to visualize the execution of your code. Very useful for when trying to understand a particularly complicated piece of Python code.\n",
    " "
   ]
  },
  {
   "cell_type": "markdown",
   "metadata": {},
   "source": [
    "## Thanks!!!! Happy programming!"
   ]
  },
  {
   "cell_type": "code",
   "execution_count": null,
   "metadata": {},
   "outputs": [],
   "source": []
  }
 ],
 "metadata": {
  "kernelspec": {
   "display_name": "Python 3",
   "language": "python",
   "name": "python3"
  },
  "language_info": {
   "codemirror_mode": {
    "name": "ipython",
    "version": 3
   },
   "file_extension": ".py",
   "mimetype": "text/x-python",
   "name": "python",
   "nbconvert_exporter": "python",
   "pygments_lexer": "ipython3",
   "version": "3.7.4"
  }
 },
 "nbformat": 4,
 "nbformat_minor": 2
}
